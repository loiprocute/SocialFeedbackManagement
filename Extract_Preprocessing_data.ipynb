{
 "cells": [
  {
   "cell_type": "code",
   "execution_count": null,
   "metadata": {},
   "outputs": [],
   "source": [
    "text_rv -> en -> sente\n",
    "\n"
   ]
  },
  {
   "cell_type": "code",
   "execution_count": 2,
   "metadata": {},
   "outputs": [
    {
     "name": "stderr",
     "output_type": "stream",
     "text": [
      "No model was supplied, defaulted to distilbert-base-uncased-finetuned-sst-2-english and revision af0f99b (https://huggingface.co/distilbert-base-uncased-finetuned-sst-2-english).\n",
      "Using a pipeline without specifying a model name and revision in production is not recommended.\n"
     ]
    }
   ],
   "source": [
    "import demoji\n",
    "from langdetect import detect\n",
    "from datetime import datetime, timedelta\n",
    "\n",
    "\n",
    "def remove_emojis(text):\n",
    "    try:\n",
    "        return demoji.replace(text.replace(\"\\n\", \"; \"), '')\n",
    "    except:\n",
    "        return None\n",
    "                  \n",
    "def detect_language(x):\n",
    "    try:\n",
    "        return detect(x)\n",
    "    except:\n",
    "        return None\n",
    "    \n",
    "def update_datetime(x):\n",
    "    if \"ago\" in x :\n",
    "        x = list(x)\n",
    "        if x[0] == 'a':\n",
    "            x[0] = '1'\n",
    "        x = ''.join(x)   \n",
    "        \n",
    "        if \"minute\" in x:\n",
    "            delta = timedelta(days=0)\n",
    "        elif \"hour\" in x:\n",
    "            delta = timedelta(days=0)\n",
    "        elif \"day\" in x:\n",
    "            delta = timedelta(days=int(x[0]))\n",
    "        if \"week\" in x:\n",
    "            delta = timedelta(weeks=int(x[0]))\n",
    "        elif \"month\" in x:\n",
    "            delta = timedelta(weeks=int(x[0])*4)\n",
    "        elif \"year\" in x:\n",
    "            delta = timedelta(weeks=int(x[0])*4*12)\n",
    "        current_time = datetime.now()\n",
    "    \n",
    "        # Calculate the previous time\n",
    "        result_time = current_time - delta  \n",
    "        # adjust format\n",
    "        date_str = result_time.strftime(\"%Y-%m-%d %H:%M\")  \n",
    "        return date_str\n",
    "    else:\n",
    "        datetime_obj = datetime.strptime(x, \" %B %Y\")\n",
    "        # adjust format\n",
    "        formatted_datetime = datetime_obj.strftime(\"%Y-%m-%d %H:%M\")\n",
    "        return formatted_datetime\n",
    "    \n",
    "from transformers import pipeline\n",
    "from googletrans import Translator\n",
    "# Init Translator Object\n",
    "translator = Translator()\n",
    "sentiment_pipeline = pipeline(\"sentiment-analysis\")    \n",
    "def sentiment_analysis_review(review,language_src):\n",
    "    \n",
    "    try :\n",
    "        if review == None or language_src == None or review.isspace() or review == \"\" :\n",
    "            return (None, None)\n",
    "        #translate review text to destination language\n",
    "        translated_text = translator.translate(review, src=language_src, dest='en').text\n",
    "        resutl_sentiment = sentiment_pipeline(translated_text)[0] #[{label : 'POSITIVE', score : value}, ]\n",
    "        return resutl_sentiment.values()\n",
    "    except Exception as e:\n",
    "        print(f'There is an Exception : {e}')\n",
    "        return (None, None)\n",
    "\n"
   ]
  },
  {
   "cell_type": "markdown",
   "metadata": {},
   "source": [
    "## Get data from Tripadvisor"
   ]
  },
  {
   "cell_type": "code",
   "execution_count": 3,
   "metadata": {},
   "outputs": [
    {
     "name": "stdout",
     "output_type": "stream",
     "text": [
      "Navigating to Next Page ==>  2\n"
     ]
    },
    {
     "ename": "KeyboardInterrupt",
     "evalue": "",
     "output_type": "error",
     "traceback": [
      "\u001b[1;31m---------------------------------------------------------------------------\u001b[0m",
      "\u001b[1;31mKeyboardInterrupt\u001b[0m                         Traceback (most recent call last)",
      "\u001b[1;32mc:\\LoiCV\\crawl_feedback\\SocialFeedbackManagement\\Extract_Preprocessing_data.ipynb Cell 4\u001b[0m line \u001b[0;36m6\n\u001b[0;32m     <a href='vscode-notebook-cell:/c%3A/LoiCV/crawl_feedback/SocialFeedbackManagement/Extract_Preprocessing_data.ipynb#W3sZmlsZQ%3D%3D?line=66'>67</a>\u001b[0m next_page_url \u001b[39m=\u001b[39m driver\u001b[39m.\u001b[39mfind_element(By\u001b[39m.\u001b[39mCSS_SELECTOR,\u001b[39m\"\u001b[39m\u001b[39ma.nav.next\u001b[39m\u001b[39m\"\u001b[39m)\u001b[39m.\u001b[39mget_attribute(\u001b[39m\"\u001b[39m\u001b[39mhref\u001b[39m\u001b[39m\"\u001b[39m)\n\u001b[0;32m     <a href='vscode-notebook-cell:/c%3A/LoiCV/crawl_feedback/SocialFeedbackManagement/Extract_Preprocessing_data.ipynb#W3sZmlsZQ%3D%3D?line=67'>68</a>\u001b[0m \u001b[39mif\u001b[39;00m next_page_url:\n\u001b[1;32m---> <a href='vscode-notebook-cell:/c%3A/LoiCV/crawl_feedback/SocialFeedbackManagement/Extract_Preprocessing_data.ipynb#W3sZmlsZQ%3D%3D?line=68'>69</a>\u001b[0m     driver\u001b[39m.\u001b[39;49mrefresh()\n\u001b[0;32m     <a href='vscode-notebook-cell:/c%3A/LoiCV/crawl_feedback/SocialFeedbackManagement/Extract_Preprocessing_data.ipynb#W3sZmlsZQ%3D%3D?line=69'>70</a>\u001b[0m     driver\u001b[39m.\u001b[39mget(next_page_url)\n\u001b[0;32m     <a href='vscode-notebook-cell:/c%3A/LoiCV/crawl_feedback/SocialFeedbackManagement/Extract_Preprocessing_data.ipynb#W3sZmlsZQ%3D%3D?line=70'>71</a>\u001b[0m     driver\u001b[39m.\u001b[39mimplicitly_wait(\u001b[39m10\u001b[39m)\n",
      "File \u001b[1;32mc:\\Users\\PC\\AppData\\Local\\Programs\\Python\\Python311\\Lib\\site-packages\\selenium\\webdriver\\remote\\webdriver.py:567\u001b[0m, in \u001b[0;36mWebDriver.refresh\u001b[1;34m(self)\u001b[0m\n\u001b[0;32m    559\u001b[0m \u001b[39mdef\u001b[39;00m \u001b[39mrefresh\u001b[39m(\u001b[39mself\u001b[39m) \u001b[39m-\u001b[39m\u001b[39m>\u001b[39m \u001b[39mNone\u001b[39;00m:\n\u001b[0;32m    560\u001b[0m \u001b[39m    \u001b[39m\u001b[39m\"\"\"Refreshes the current page.\u001b[39;00m\n\u001b[0;32m    561\u001b[0m \n\u001b[0;32m    562\u001b[0m \u001b[39m    :Usage:\u001b[39;00m\n\u001b[1;32m   (...)\u001b[0m\n\u001b[0;32m    565\u001b[0m \u001b[39m            driver.refresh()\u001b[39;00m\n\u001b[0;32m    566\u001b[0m \u001b[39m    \"\"\"\u001b[39;00m\n\u001b[1;32m--> 567\u001b[0m     \u001b[39mself\u001b[39;49m\u001b[39m.\u001b[39;49mexecute(Command\u001b[39m.\u001b[39;49mREFRESH)\n",
      "File \u001b[1;32mc:\\Users\\PC\\AppData\\Local\\Programs\\Python\\Python311\\Lib\\site-packages\\selenium\\webdriver\\remote\\webdriver.py:342\u001b[0m, in \u001b[0;36mWebDriver.execute\u001b[1;34m(self, driver_command, params)\u001b[0m\n\u001b[0;32m    339\u001b[0m     \u001b[39melif\u001b[39;00m \u001b[39m\"\u001b[39m\u001b[39msessionId\u001b[39m\u001b[39m\"\u001b[39m \u001b[39mnot\u001b[39;00m \u001b[39min\u001b[39;00m params:\n\u001b[0;32m    340\u001b[0m         params[\u001b[39m\"\u001b[39m\u001b[39msessionId\u001b[39m\u001b[39m\"\u001b[39m] \u001b[39m=\u001b[39m \u001b[39mself\u001b[39m\u001b[39m.\u001b[39msession_id\n\u001b[1;32m--> 342\u001b[0m response \u001b[39m=\u001b[39m \u001b[39mself\u001b[39;49m\u001b[39m.\u001b[39;49mcommand_executor\u001b[39m.\u001b[39;49mexecute(driver_command, params)\n\u001b[0;32m    343\u001b[0m \u001b[39mif\u001b[39;00m response:\n\u001b[0;32m    344\u001b[0m     \u001b[39mself\u001b[39m\u001b[39m.\u001b[39merror_handler\u001b[39m.\u001b[39mcheck_response(response)\n",
      "File \u001b[1;32mc:\\Users\\PC\\AppData\\Local\\Programs\\Python\\Python311\\Lib\\site-packages\\selenium\\webdriver\\remote\\remote_connection.py:297\u001b[0m, in \u001b[0;36mRemoteConnection.execute\u001b[1;34m(self, command, params)\u001b[0m\n\u001b[0;32m    295\u001b[0m data \u001b[39m=\u001b[39m utils\u001b[39m.\u001b[39mdump_json(params)\n\u001b[0;32m    296\u001b[0m url \u001b[39m=\u001b[39m \u001b[39mf\u001b[39m\u001b[39m\"\u001b[39m\u001b[39m{\u001b[39;00m\u001b[39mself\u001b[39m\u001b[39m.\u001b[39m_url\u001b[39m}\u001b[39;00m\u001b[39m{\u001b[39;00mpath\u001b[39m}\u001b[39;00m\u001b[39m\"\u001b[39m\n\u001b[1;32m--> 297\u001b[0m \u001b[39mreturn\u001b[39;00m \u001b[39mself\u001b[39;49m\u001b[39m.\u001b[39;49m_request(command_info[\u001b[39m0\u001b[39;49m], url, body\u001b[39m=\u001b[39;49mdata)\n",
      "File \u001b[1;32mc:\\Users\\PC\\AppData\\Local\\Programs\\Python\\Python311\\Lib\\site-packages\\selenium\\webdriver\\remote\\remote_connection.py:318\u001b[0m, in \u001b[0;36mRemoteConnection._request\u001b[1;34m(self, method, url, body)\u001b[0m\n\u001b[0;32m    315\u001b[0m     body \u001b[39m=\u001b[39m \u001b[39mNone\u001b[39;00m\n\u001b[0;32m    317\u001b[0m \u001b[39mif\u001b[39;00m \u001b[39mself\u001b[39m\u001b[39m.\u001b[39mkeep_alive:\n\u001b[1;32m--> 318\u001b[0m     response \u001b[39m=\u001b[39m \u001b[39mself\u001b[39;49m\u001b[39m.\u001b[39;49m_conn\u001b[39m.\u001b[39;49mrequest(method, url, body\u001b[39m=\u001b[39;49mbody, headers\u001b[39m=\u001b[39;49mheaders)\n\u001b[0;32m    319\u001b[0m     statuscode \u001b[39m=\u001b[39m response\u001b[39m.\u001b[39mstatus\n\u001b[0;32m    320\u001b[0m \u001b[39melse\u001b[39;00m:\n",
      "File \u001b[1;32mc:\\Users\\PC\\AppData\\Local\\Programs\\Python\\Python311\\Lib\\site-packages\\urllib3\\request.py:78\u001b[0m, in \u001b[0;36mRequestMethods.request\u001b[1;34m(self, method, url, fields, headers, **urlopen_kw)\u001b[0m\n\u001b[0;32m     74\u001b[0m     \u001b[39mreturn\u001b[39;00m \u001b[39mself\u001b[39m\u001b[39m.\u001b[39mrequest_encode_url(\n\u001b[0;32m     75\u001b[0m         method, url, fields\u001b[39m=\u001b[39mfields, headers\u001b[39m=\u001b[39mheaders, \u001b[39m*\u001b[39m\u001b[39m*\u001b[39murlopen_kw\n\u001b[0;32m     76\u001b[0m     )\n\u001b[0;32m     77\u001b[0m \u001b[39melse\u001b[39;00m:\n\u001b[1;32m---> 78\u001b[0m     \u001b[39mreturn\u001b[39;00m \u001b[39mself\u001b[39;49m\u001b[39m.\u001b[39;49mrequest_encode_body(\n\u001b[0;32m     79\u001b[0m         method, url, fields\u001b[39m=\u001b[39;49mfields, headers\u001b[39m=\u001b[39;49mheaders, \u001b[39m*\u001b[39;49m\u001b[39m*\u001b[39;49murlopen_kw\n\u001b[0;32m     80\u001b[0m     )\n",
      "File \u001b[1;32mc:\\Users\\PC\\AppData\\Local\\Programs\\Python\\Python311\\Lib\\site-packages\\urllib3\\request.py:170\u001b[0m, in \u001b[0;36mRequestMethods.request_encode_body\u001b[1;34m(self, method, url, fields, headers, encode_multipart, multipart_boundary, **urlopen_kw)\u001b[0m\n\u001b[0;32m    167\u001b[0m extra_kw[\u001b[39m\"\u001b[39m\u001b[39mheaders\u001b[39m\u001b[39m\"\u001b[39m]\u001b[39m.\u001b[39mupdate(headers)\n\u001b[0;32m    168\u001b[0m extra_kw\u001b[39m.\u001b[39mupdate(urlopen_kw)\n\u001b[1;32m--> 170\u001b[0m \u001b[39mreturn\u001b[39;00m \u001b[39mself\u001b[39;49m\u001b[39m.\u001b[39;49murlopen(method, url, \u001b[39m*\u001b[39;49m\u001b[39m*\u001b[39;49mextra_kw)\n",
      "File \u001b[1;32mc:\\Users\\PC\\AppData\\Local\\Programs\\Python\\Python311\\Lib\\site-packages\\urllib3\\poolmanager.py:376\u001b[0m, in \u001b[0;36mPoolManager.urlopen\u001b[1;34m(self, method, url, redirect, **kw)\u001b[0m\n\u001b[0;32m    374\u001b[0m     response \u001b[39m=\u001b[39m conn\u001b[39m.\u001b[39murlopen(method, url, \u001b[39m*\u001b[39m\u001b[39m*\u001b[39mkw)\n\u001b[0;32m    375\u001b[0m \u001b[39melse\u001b[39;00m:\n\u001b[1;32m--> 376\u001b[0m     response \u001b[39m=\u001b[39m conn\u001b[39m.\u001b[39;49murlopen(method, u\u001b[39m.\u001b[39;49mrequest_uri, \u001b[39m*\u001b[39;49m\u001b[39m*\u001b[39;49mkw)\n\u001b[0;32m    378\u001b[0m redirect_location \u001b[39m=\u001b[39m redirect \u001b[39mand\u001b[39;00m response\u001b[39m.\u001b[39mget_redirect_location()\n\u001b[0;32m    379\u001b[0m \u001b[39mif\u001b[39;00m \u001b[39mnot\u001b[39;00m redirect_location:\n",
      "File \u001b[1;32mc:\\Users\\PC\\AppData\\Local\\Programs\\Python\\Python311\\Lib\\site-packages\\urllib3\\connectionpool.py:703\u001b[0m, in \u001b[0;36mHTTPConnectionPool.urlopen\u001b[1;34m(self, method, url, body, headers, retries, redirect, assert_same_host, timeout, pool_timeout, release_conn, chunked, body_pos, **response_kw)\u001b[0m\n\u001b[0;32m    700\u001b[0m     \u001b[39mself\u001b[39m\u001b[39m.\u001b[39m_prepare_proxy(conn)\n\u001b[0;32m    702\u001b[0m \u001b[39m# Make the request on the httplib connection object.\u001b[39;00m\n\u001b[1;32m--> 703\u001b[0m httplib_response \u001b[39m=\u001b[39m \u001b[39mself\u001b[39;49m\u001b[39m.\u001b[39;49m_make_request(\n\u001b[0;32m    704\u001b[0m     conn,\n\u001b[0;32m    705\u001b[0m     method,\n\u001b[0;32m    706\u001b[0m     url,\n\u001b[0;32m    707\u001b[0m     timeout\u001b[39m=\u001b[39;49mtimeout_obj,\n\u001b[0;32m    708\u001b[0m     body\u001b[39m=\u001b[39;49mbody,\n\u001b[0;32m    709\u001b[0m     headers\u001b[39m=\u001b[39;49mheaders,\n\u001b[0;32m    710\u001b[0m     chunked\u001b[39m=\u001b[39;49mchunked,\n\u001b[0;32m    711\u001b[0m )\n\u001b[0;32m    713\u001b[0m \u001b[39m# If we're going to release the connection in ``finally:``, then\u001b[39;00m\n\u001b[0;32m    714\u001b[0m \u001b[39m# the response doesn't need to know about the connection. Otherwise\u001b[39;00m\n\u001b[0;32m    715\u001b[0m \u001b[39m# it will also try to release it and we'll have a double-release\u001b[39;00m\n\u001b[0;32m    716\u001b[0m \u001b[39m# mess.\u001b[39;00m\n\u001b[0;32m    717\u001b[0m response_conn \u001b[39m=\u001b[39m conn \u001b[39mif\u001b[39;00m \u001b[39mnot\u001b[39;00m release_conn \u001b[39melse\u001b[39;00m \u001b[39mNone\u001b[39;00m\n",
      "File \u001b[1;32mc:\\Users\\PC\\AppData\\Local\\Programs\\Python\\Python311\\Lib\\site-packages\\urllib3\\connectionpool.py:449\u001b[0m, in \u001b[0;36mHTTPConnectionPool._make_request\u001b[1;34m(self, conn, method, url, timeout, chunked, **httplib_request_kw)\u001b[0m\n\u001b[0;32m    444\u001b[0m             httplib_response \u001b[39m=\u001b[39m conn\u001b[39m.\u001b[39mgetresponse()\n\u001b[0;32m    445\u001b[0m         \u001b[39mexcept\u001b[39;00m \u001b[39mBaseException\u001b[39;00m \u001b[39mas\u001b[39;00m e:\n\u001b[0;32m    446\u001b[0m             \u001b[39m# Remove the TypeError from the exception chain in\u001b[39;00m\n\u001b[0;32m    447\u001b[0m             \u001b[39m# Python 3 (including for exceptions like SystemExit).\u001b[39;00m\n\u001b[0;32m    448\u001b[0m             \u001b[39m# Otherwise it looks like a bug in the code.\u001b[39;00m\n\u001b[1;32m--> 449\u001b[0m             six\u001b[39m.\u001b[39;49mraise_from(e, \u001b[39mNone\u001b[39;49;00m)\n\u001b[0;32m    450\u001b[0m \u001b[39mexcept\u001b[39;00m (SocketTimeout, BaseSSLError, SocketError) \u001b[39mas\u001b[39;00m e:\n\u001b[0;32m    451\u001b[0m     \u001b[39mself\u001b[39m\u001b[39m.\u001b[39m_raise_timeout(err\u001b[39m=\u001b[39me, url\u001b[39m=\u001b[39murl, timeout_value\u001b[39m=\u001b[39mread_timeout)\n",
      "File \u001b[1;32m<string>:3\u001b[0m, in \u001b[0;36mraise_from\u001b[1;34m(value, from_value)\u001b[0m\n",
      "File \u001b[1;32mc:\\Users\\PC\\AppData\\Local\\Programs\\Python\\Python311\\Lib\\site-packages\\urllib3\\connectionpool.py:444\u001b[0m, in \u001b[0;36mHTTPConnectionPool._make_request\u001b[1;34m(self, conn, method, url, timeout, chunked, **httplib_request_kw)\u001b[0m\n\u001b[0;32m    441\u001b[0m \u001b[39mexcept\u001b[39;00m \u001b[39mTypeError\u001b[39;00m:\n\u001b[0;32m    442\u001b[0m     \u001b[39m# Python 3\u001b[39;00m\n\u001b[0;32m    443\u001b[0m     \u001b[39mtry\u001b[39;00m:\n\u001b[1;32m--> 444\u001b[0m         httplib_response \u001b[39m=\u001b[39m conn\u001b[39m.\u001b[39;49mgetresponse()\n\u001b[0;32m    445\u001b[0m     \u001b[39mexcept\u001b[39;00m \u001b[39mBaseException\u001b[39;00m \u001b[39mas\u001b[39;00m e:\n\u001b[0;32m    446\u001b[0m         \u001b[39m# Remove the TypeError from the exception chain in\u001b[39;00m\n\u001b[0;32m    447\u001b[0m         \u001b[39m# Python 3 (including for exceptions like SystemExit).\u001b[39;00m\n\u001b[0;32m    448\u001b[0m         \u001b[39m# Otherwise it looks like a bug in the code.\u001b[39;00m\n\u001b[0;32m    449\u001b[0m         six\u001b[39m.\u001b[39mraise_from(e, \u001b[39mNone\u001b[39;00m)\n",
      "File \u001b[1;32mc:\\Users\\PC\\AppData\\Local\\Programs\\Python\\Python311\\Lib\\http\\client.py:1375\u001b[0m, in \u001b[0;36mHTTPConnection.getresponse\u001b[1;34m(self)\u001b[0m\n\u001b[0;32m   1373\u001b[0m \u001b[39mtry\u001b[39;00m:\n\u001b[0;32m   1374\u001b[0m     \u001b[39mtry\u001b[39;00m:\n\u001b[1;32m-> 1375\u001b[0m         response\u001b[39m.\u001b[39;49mbegin()\n\u001b[0;32m   1376\u001b[0m     \u001b[39mexcept\u001b[39;00m \u001b[39mConnectionError\u001b[39;00m:\n\u001b[0;32m   1377\u001b[0m         \u001b[39mself\u001b[39m\u001b[39m.\u001b[39mclose()\n",
      "File \u001b[1;32mc:\\Users\\PC\\AppData\\Local\\Programs\\Python\\Python311\\Lib\\http\\client.py:318\u001b[0m, in \u001b[0;36mHTTPResponse.begin\u001b[1;34m(self)\u001b[0m\n\u001b[0;32m    316\u001b[0m \u001b[39m# read until we get a non-100 response\u001b[39;00m\n\u001b[0;32m    317\u001b[0m \u001b[39mwhile\u001b[39;00m \u001b[39mTrue\u001b[39;00m:\n\u001b[1;32m--> 318\u001b[0m     version, status, reason \u001b[39m=\u001b[39m \u001b[39mself\u001b[39;49m\u001b[39m.\u001b[39;49m_read_status()\n\u001b[0;32m    319\u001b[0m     \u001b[39mif\u001b[39;00m status \u001b[39m!=\u001b[39m CONTINUE:\n\u001b[0;32m    320\u001b[0m         \u001b[39mbreak\u001b[39;00m\n",
      "File \u001b[1;32mc:\\Users\\PC\\AppData\\Local\\Programs\\Python\\Python311\\Lib\\http\\client.py:279\u001b[0m, in \u001b[0;36mHTTPResponse._read_status\u001b[1;34m(self)\u001b[0m\n\u001b[0;32m    278\u001b[0m \u001b[39mdef\u001b[39;00m \u001b[39m_read_status\u001b[39m(\u001b[39mself\u001b[39m):\n\u001b[1;32m--> 279\u001b[0m     line \u001b[39m=\u001b[39m \u001b[39mstr\u001b[39m(\u001b[39mself\u001b[39m\u001b[39m.\u001b[39mfp\u001b[39m.\u001b[39mreadline(_MAXLINE \u001b[39m+\u001b[39m \u001b[39m1\u001b[39m), \u001b[39m\"\u001b[39m\u001b[39miso-8859-1\u001b[39m\u001b[39m\"\u001b[39m)\n\u001b[0;32m    280\u001b[0m     \u001b[39mif\u001b[39;00m \u001b[39mlen\u001b[39m(line) \u001b[39m>\u001b[39m _MAXLINE:\n\u001b[0;32m    281\u001b[0m         \u001b[39mraise\u001b[39;00m LineTooLong(\u001b[39m\"\u001b[39m\u001b[39mstatus line\u001b[39m\u001b[39m\"\u001b[39m)\n",
      "File \u001b[1;32mc:\\Users\\PC\\AppData\\Local\\Programs\\Python\\Python311\\Lib\\socket.py:706\u001b[0m, in \u001b[0;36mSocketIO.readinto\u001b[1;34m(self, b)\u001b[0m\n\u001b[0;32m    704\u001b[0m \u001b[39mwhile\u001b[39;00m \u001b[39mTrue\u001b[39;00m:\n\u001b[0;32m    705\u001b[0m     \u001b[39mtry\u001b[39;00m:\n\u001b[1;32m--> 706\u001b[0m         \u001b[39mreturn\u001b[39;00m \u001b[39mself\u001b[39;49m\u001b[39m.\u001b[39;49m_sock\u001b[39m.\u001b[39;49mrecv_into(b)\n\u001b[0;32m    707\u001b[0m     \u001b[39mexcept\u001b[39;00m timeout:\n\u001b[0;32m    708\u001b[0m         \u001b[39mself\u001b[39m\u001b[39m.\u001b[39m_timeout_occurred \u001b[39m=\u001b[39m \u001b[39mTrue\u001b[39;00m\n",
      "\u001b[1;31mKeyboardInterrupt\u001b[0m: "
     ]
    }
   ],
   "source": [
    "results = [] # <--- global list for items\n",
    "\n",
    "\n",
    "import time\n",
    "from selenium import webdriver\n",
    "from selenium.webdriver.chrome.options import Options\n",
    "from selenium.webdriver.common.by import By\n",
    "from selenium.webdriver.support.ui import WebDriverWait\n",
    "from selenium.webdriver.support import expected_conditions as EC\n",
    "from selenium.common.exceptions import TimeoutException, WebDriverException\n",
    "from selenium.common.exceptions import StaleElementReferenceException\n",
    "\n",
    "\n",
    "int_url     = \"https://www.tripadvisor.com/ShowUserReviews-g293925-d12130500-r923315228-Poke_Saigon-Ho_Chi_Minh_City.html\"\n",
    "driver = webdriver.Chrome()\n",
    "driver.get(int_url)\n",
    "\n",
    "def get_reviews_per_page(driver):\n",
    "    \n",
    "    reviews=driver.find_elements(By.CLASS_NAME, \"review-container\")\n",
    "    result = []\n",
    "    for i in range(len(reviews)): \n",
    "        wait = WebDriverWait(driver, 20)   \n",
    "        # Wait for the reviews to load completely\n",
    "        wait.until(EC.presence_of_all_elements_located((By.CSS_SELECTOR, \"div.username.mo\")))\n",
    "        wait.until(EC.presence_of_all_elements_located((By.CSS_SELECTOR,\"div.prw_rup.prw_reviews_text_summary_hsx\")))\n",
    "        wait.until(EC.presence_of_all_elements_located((By.CSS_SELECTOR,\"div.rating.reviewItemInline > span\")))\n",
    "        wait.until(EC.presence_of_all_elements_located((By.CSS_SELECTOR,\"div.wrap > div.prw_rup.prw_reviews_stay_date_hsx\")))\n",
    "\n",
    "        user = reviews[i].find_element(By.CSS_SELECTOR,\"div.username.mo\").text\n",
    "        text_review = reviews[i].find_element(By.CSS_SELECTOR,\"div.prw_rup.prw_reviews_text_summary_hsx\").text\n",
    "        rate_element = reviews[i].find_element(By.CSS_SELECTOR,\"div.rating.reviewItemInline > span\")\n",
    "        rate = rate_element.get_attribute(\"class\").split(\"_\")[-1][0]\n",
    "        time_visit = reviews[i].find_element(By.CSS_SELECTOR,\"div.wrap > div.prw_rup.prw_reviews_stay_date_hsx\").text.split(\":\")[-1]  \n",
    "   \n",
    "        #Preprocessing \n",
    "        text_review = remove_emojis(text_review)\n",
    "        language =  detect_language(text_review)\n",
    "        sentiment, score = sentiment_analysis_review(text_review,language)\n",
    "        time_visit = update_datetime(time_visit)\n",
    "        item = {\n",
    "            'user' : user,\n",
    "            'text_review': text_review,\n",
    "            'sentiment_review':sentiment,\n",
    "            'sentiment_score' :score,\n",
    "            'rate' : rate,\n",
    "            'time_visit' : time_visit,\n",
    "            'language': language,\n",
    "            'platform': 'tripadvisor'\n",
    "        }\n",
    "\n",
    "        result.append(item) # <--- add to global list\n",
    "        \n",
    "    return result    \n",
    "\n",
    "\n",
    "i=1 \n",
    "driver.implicitly_wait(25)\n",
    "while True:\n",
    "    try:\n",
    "        results += get_reviews_per_page(driver)\n",
    "    except (TimeoutException, WebDriverException) as e:\n",
    "        results += get_reviews_per_page(driver)\n",
    "        print(next_page_url)\n",
    "        break\n",
    "    \n",
    "    next_page_url = driver.find_element(By.CSS_SELECTOR,\"a.nav.next\").get_attribute(\"href\")\n",
    "    if next_page_url:\n",
    "        driver.refresh()\n",
    "        driver.get(next_page_url)\n",
    "        driver.implicitly_wait(10)\n",
    "        i+=1\n",
    "        print(\"Navigating to Next Page ==> \", i )\n",
    "    else:\n",
    "        break\n",
    "    time.sleep(3)\n",
    "    \n",
    "print(\"total pages :\", i )\n",
    "driver.quit()\n",
    "\n"
   ]
  },
  {
   "cell_type": "code",
   "execution_count": 21,
   "metadata": {},
   "outputs": [],
   "source": [
    "import pandas as pd        \n",
    "df = pd.DataFrame(results).sort_values(by='time_visit') # <--- convert list to DataFrame\n",
    "df.to_csv(\"Data/tripadvisor.csv\",index=False, encoding=\"utf-8\")"
   ]
  },
  {
   "cell_type": "markdown",
   "metadata": {},
   "source": [
    "### Get data from Google Map \n"
   ]
  },
  {
   "cell_type": "markdown",
   "metadata": {},
   "source": []
  },
  {
   "cell_type": "code",
   "execution_count": 4,
   "metadata": {},
   "outputs": [
    {
     "ename": "NoSuchWindowException",
     "evalue": "Message: no such window: target window already closed\nfrom unknown error: web view not found\n  (Session info: chrome=119.0.6045.160)\nStacktrace:\n\tGetHandleVerifier [0x00007FF6CCEF82B2+55298]\n\t(No symbol) [0x00007FF6CCE65E02]\n\t(No symbol) [0x00007FF6CCD205AB]\n\t(No symbol) [0x00007FF6CCD00038]\n\t(No symbol) [0x00007FF6CCD86BC7]\n\t(No symbol) [0x00007FF6CCD9A15F]\n\t(No symbol) [0x00007FF6CCD81E83]\n\t(No symbol) [0x00007FF6CCD5670A]\n\t(No symbol) [0x00007FF6CCD57964]\n\tGetHandleVerifier [0x00007FF6CD270AAB+3694587]\n\tGetHandleVerifier [0x00007FF6CD2C728E+4048862]\n\tGetHandleVerifier [0x00007FF6CD2BF173+4015811]\n\tGetHandleVerifier [0x00007FF6CCF947D6+695590]\n\t(No symbol) [0x00007FF6CCE70CE8]\n\t(No symbol) [0x00007FF6CCE6CF34]\n\t(No symbol) [0x00007FF6CCE6D062]\n\t(No symbol) [0x00007FF6CCE5D3A3]\n\tBaseThreadInitThunk [0x00007FFB3615257D+29]\n\tRtlUserThreadStart [0x00007FFB3806AA58+40]\n",
     "output_type": "error",
     "traceback": [
      "\u001b[1;31m---------------------------------------------------------------------------\u001b[0m",
      "\u001b[1;31mNoSuchWindowException\u001b[0m                     Traceback (most recent call last)",
      "\u001b[1;32mc:\\LoiCV\\crawl_feedback\\SocialFeedbackManagement\\Extract_Preprocessing_data.ipynb Cell 8\u001b[0m line \u001b[0;36m2\n\u001b[0;32m     <a href='vscode-notebook-cell:/c%3A/LoiCV/crawl_feedback/SocialFeedbackManagement/Extract_Preprocessing_data.ipynb#X10sZmlsZQ%3D%3D?line=22'>23</a>\u001b[0m body\u001b[39m.\u001b[39msend_keys(Keys\u001b[39m.\u001b[39mEND)\n\u001b[0;32m     <a href='vscode-notebook-cell:/c%3A/LoiCV/crawl_feedback/SocialFeedbackManagement/Extract_Preprocessing_data.ipynb#X10sZmlsZQ%3D%3D?line=23'>24</a>\u001b[0m time\u001b[39m.\u001b[39msleep(\u001b[39m5\u001b[39m)  \u001b[39m# Adjust the delay based on your internet speed and page loading time\u001b[39;00m\n\u001b[1;32m---> <a href='vscode-notebook-cell:/c%3A/LoiCV/crawl_feedback/SocialFeedbackManagement/Extract_Preprocessing_data.ipynb#X10sZmlsZQ%3D%3D?line=24'>25</a>\u001b[0m new_num_reviews \u001b[39m=\u001b[39m \u001b[39mlen\u001b[39m(driver\u001b[39m.\u001b[39;49mfind_elements(By\u001b[39m.\u001b[39;49mCLASS_NAME, \u001b[39m'\u001b[39;49m\u001b[39mjftiEf\u001b[39;49m\u001b[39m'\u001b[39;49m))\n\u001b[0;32m     <a href='vscode-notebook-cell:/c%3A/LoiCV/crawl_feedback/SocialFeedbackManagement/Extract_Preprocessing_data.ipynb#X10sZmlsZQ%3D%3D?line=25'>26</a>\u001b[0m \u001b[39mif\u001b[39;00m new_num_reviews \u001b[39m==\u001b[39m num_reviews:\n\u001b[0;32m     <a href='vscode-notebook-cell:/c%3A/LoiCV/crawl_feedback/SocialFeedbackManagement/Extract_Preprocessing_data.ipynb#X10sZmlsZQ%3D%3D?line=26'>27</a>\u001b[0m     \u001b[39m# Scroll to the top to ensure all reviews are loaded\u001b[39;00m\n\u001b[0;32m     <a href='vscode-notebook-cell:/c%3A/LoiCV/crawl_feedback/SocialFeedbackManagement/Extract_Preprocessing_data.ipynb#X10sZmlsZQ%3D%3D?line=27'>28</a>\u001b[0m     body\u001b[39m.\u001b[39msend_keys(Keys\u001b[39m.\u001b[39mHOME)\n",
      "File \u001b[1;32mc:\\Users\\PC\\AppData\\Local\\Programs\\Python\\Python311\\Lib\\site-packages\\selenium\\webdriver\\remote\\webdriver.py:768\u001b[0m, in \u001b[0;36mWebDriver.find_elements\u001b[1;34m(self, by, value)\u001b[0m\n\u001b[0;32m    764\u001b[0m     value \u001b[39m=\u001b[39m \u001b[39mf\u001b[39m\u001b[39m'\u001b[39m\u001b[39m[name=\u001b[39m\u001b[39m\"\u001b[39m\u001b[39m{\u001b[39;00mvalue\u001b[39m}\u001b[39;00m\u001b[39m\"\u001b[39m\u001b[39m]\u001b[39m\u001b[39m'\u001b[39m\n\u001b[0;32m    766\u001b[0m \u001b[39m# Return empty list if driver returns null\u001b[39;00m\n\u001b[0;32m    767\u001b[0m \u001b[39m# See https://github.com/SeleniumHQ/selenium/issues/4555\u001b[39;00m\n\u001b[1;32m--> 768\u001b[0m \u001b[39mreturn\u001b[39;00m \u001b[39mself\u001b[39;49m\u001b[39m.\u001b[39;49mexecute(Command\u001b[39m.\u001b[39;49mFIND_ELEMENTS, {\u001b[39m\"\u001b[39;49m\u001b[39musing\u001b[39;49m\u001b[39m\"\u001b[39;49m: by, \u001b[39m\"\u001b[39;49m\u001b[39mvalue\u001b[39;49m\u001b[39m\"\u001b[39;49m: value})[\u001b[39m\"\u001b[39m\u001b[39mvalue\u001b[39m\u001b[39m\"\u001b[39m] \u001b[39mor\u001b[39;00m []\n",
      "File \u001b[1;32mc:\\Users\\PC\\AppData\\Local\\Programs\\Python\\Python311\\Lib\\site-packages\\selenium\\webdriver\\remote\\webdriver.py:344\u001b[0m, in \u001b[0;36mWebDriver.execute\u001b[1;34m(self, driver_command, params)\u001b[0m\n\u001b[0;32m    342\u001b[0m response \u001b[39m=\u001b[39m \u001b[39mself\u001b[39m\u001b[39m.\u001b[39mcommand_executor\u001b[39m.\u001b[39mexecute(driver_command, params)\n\u001b[0;32m    343\u001b[0m \u001b[39mif\u001b[39;00m response:\n\u001b[1;32m--> 344\u001b[0m     \u001b[39mself\u001b[39;49m\u001b[39m.\u001b[39;49merror_handler\u001b[39m.\u001b[39;49mcheck_response(response)\n\u001b[0;32m    345\u001b[0m     response[\u001b[39m\"\u001b[39m\u001b[39mvalue\u001b[39m\u001b[39m\"\u001b[39m] \u001b[39m=\u001b[39m \u001b[39mself\u001b[39m\u001b[39m.\u001b[39m_unwrap_value(response\u001b[39m.\u001b[39mget(\u001b[39m\"\u001b[39m\u001b[39mvalue\u001b[39m\u001b[39m\"\u001b[39m, \u001b[39mNone\u001b[39;00m))\n\u001b[0;32m    346\u001b[0m     \u001b[39mreturn\u001b[39;00m response\n",
      "File \u001b[1;32mc:\\Users\\PC\\AppData\\Local\\Programs\\Python\\Python311\\Lib\\site-packages\\selenium\\webdriver\\remote\\errorhandler.py:229\u001b[0m, in \u001b[0;36mErrorHandler.check_response\u001b[1;34m(self, response)\u001b[0m\n\u001b[0;32m    227\u001b[0m         alert_text \u001b[39m=\u001b[39m value[\u001b[39m\"\u001b[39m\u001b[39malert\u001b[39m\u001b[39m\"\u001b[39m]\u001b[39m.\u001b[39mget(\u001b[39m\"\u001b[39m\u001b[39mtext\u001b[39m\u001b[39m\"\u001b[39m)\n\u001b[0;32m    228\u001b[0m     \u001b[39mraise\u001b[39;00m exception_class(message, screen, stacktrace, alert_text)  \u001b[39m# type: ignore[call-arg]  # mypy is not smart enough here\u001b[39;00m\n\u001b[1;32m--> 229\u001b[0m \u001b[39mraise\u001b[39;00m exception_class(message, screen, stacktrace)\n",
      "\u001b[1;31mNoSuchWindowException\u001b[0m: Message: no such window: target window already closed\nfrom unknown error: web view not found\n  (Session info: chrome=119.0.6045.160)\nStacktrace:\n\tGetHandleVerifier [0x00007FF6CCEF82B2+55298]\n\t(No symbol) [0x00007FF6CCE65E02]\n\t(No symbol) [0x00007FF6CCD205AB]\n\t(No symbol) [0x00007FF6CCD00038]\n\t(No symbol) [0x00007FF6CCD86BC7]\n\t(No symbol) [0x00007FF6CCD9A15F]\n\t(No symbol) [0x00007FF6CCD81E83]\n\t(No symbol) [0x00007FF6CCD5670A]\n\t(No symbol) [0x00007FF6CCD57964]\n\tGetHandleVerifier [0x00007FF6CD270AAB+3694587]\n\tGetHandleVerifier [0x00007FF6CD2C728E+4048862]\n\tGetHandleVerifier [0x00007FF6CD2BF173+4015811]\n\tGetHandleVerifier [0x00007FF6CCF947D6+695590]\n\t(No symbol) [0x00007FF6CCE70CE8]\n\t(No symbol) [0x00007FF6CCE6CF34]\n\t(No symbol) [0x00007FF6CCE6D062]\n\t(No symbol) [0x00007FF6CCE5D3A3]\n\tBaseThreadInitThunk [0x00007FFB3615257D+29]\n\tRtlUserThreadStart [0x00007FFB3806AA58+40]\n"
     ]
    }
   ],
   "source": [
    "from selenium import webdriver\n",
    "from selenium.webdriver.common.by import By\n",
    "from selenium.webdriver.support.ui import WebDriverWait\n",
    "from selenium.webdriver.support import expected_conditions as EC\n",
    "from selenium.webdriver.common.keys import Keys\n",
    "import time\n",
    "\n",
    "# Specify the URL of the business page on Google Maps\n",
    "url = \"https://www.google.com/maps/place/Poke+S%C3%A0i+G%C3%B2n+L%C3%BD+T%E1%BB%B1+Tr%E1%BB%8Dng/@10.7771788,106.6893238,14.47z/data=!4m8!3m7!1s0x31752f47f450b265:0xa46f765f0dea01e8!8m2!3d10.7771626!4d106.7001507!9m1!1b1!16s%2Fg%2F11g020cwyh?entry=ttu\"\n",
    "# Create an instance of the Chrome driver\n",
    "driver = webdriver.Chrome()\n",
    "\n",
    "# Navigate to the specified URL\n",
    "driver.get(url)\n",
    "\n",
    "# Wait for the reviews to load\n",
    "wait = WebDriverWait(driver, 20)  # Increased the waiting time  \n",
    "\n",
    "# Scroll down to load more reviews\n",
    "body = driver.find_element(By.CSS_SELECTOR, \"div.m6QErb.DxyBCb.kA9KIf.dS8AEf\")\n",
    "num_reviews = len(driver.find_elements(By.CLASS_NAME, 'jftiEf'))\n",
    "while True:\n",
    "    body.send_keys(Keys.END)\n",
    "    time.sleep(5)  # Adjust the delay based on your internet speed and page loading time\n",
    "    new_num_reviews = len(driver.find_elements(By.CLASS_NAME, 'jftiEf'))\n",
    "    if new_num_reviews == num_reviews:\n",
    "        # Scroll to the top to ensure all reviews are loaded\n",
    "        body.send_keys(Keys.HOME)\n",
    "        time.sleep(10)\n",
    "        break\n",
    "    num_reviews = new_num_reviews\n",
    "\n",
    "# Wait for the reviews to load completely\n",
    "wait.until(EC.presence_of_all_elements_located((By.CLASS_NAME, 'jftiEf')))\n",
    "wait.until(EC.presence_of_all_elements_located((By.CLASS_NAME, 'wiI7pd')))\n",
    "wait.until(EC.presence_of_all_elements_located((By.CLASS_NAME, 'kvMYJc')))\n",
    "wait.until(EC.presence_of_all_elements_located((By.CLASS_NAME, 'rsqaWe')))\n"
   ]
  },
  {
   "cell_type": "code",
   "execution_count": 26,
   "metadata": {},
   "outputs": [
    {
     "name": "stdout",
     "output_type": "stream",
     "text": [
      "review None !!!\n",
      "review None !!!\n",
      "review None !!!\n",
      "review None !!!\n"
     ]
    }
   ],
   "source": [
    "from selenium.common.exceptions import TimeoutException, WebDriverException, NoSuchElementException\n",
    "# Extract the text of each review\n",
    "review_elements = driver.find_elements(By.CLASS_NAME, 'jftiEf')\n",
    "result=[]\n",
    "for review in review_elements:\n",
    "    \n",
    "        user = review.get_attribute(\"aria-label\")\n",
    "        #text_review = review.find_element(By.CSS_SELECTOR,\"span.wiI7pd\").text\n",
    "        try:\n",
    "                text_review = review.find_element(By.CSS_SELECTOR,\"span.wiI7pd\").text\n",
    "        except (TimeoutException, WebDriverException,NoSuchElementException) as e:\n",
    "                text_review = None\n",
    "        rate_element = review.find_element(By.CSS_SELECTOR,\"span.kvMYJc\").get_attribute(\"aria-label\")\n",
    "        rate = rate_element.split(\" \")[0]\n",
    "        time_visit = review.find_element(By.CSS_SELECTOR,\"span.rsqaWe\").text\n",
    "\n",
    "        #preprocessing \n",
    "        text_review = remove_emojis(text_review)\n",
    "        language =  detect_language(text_review)\n",
    "        sentiment, score =sentiment_analysis_review(text_review, language)\n",
    "        time_visit = update_datetime(time_visit)\n",
    "\n",
    "       \n",
    "        item = {\n",
    "            'user' : user,\n",
    "            'text_review': text_review,\n",
    "            'sentiment_review':sentiment,\n",
    "            'sentiment_score' :score,\n",
    "            'rate' : rate,\n",
    "            'time_visit' : time_visit,\n",
    "            'language': language,\n",
    "            'platform': 'google_map'\n",
    "        }\n",
    "\n",
    "        result.append(item)\n",
    "        time.sleep(2)\n"
   ]
  },
  {
   "cell_type": "code",
   "execution_count": 27,
   "metadata": {},
   "outputs": [],
   "source": [
    "import pandas as pd        \n",
    "df = pd.DataFrame(result).sort_values(by='time_visit') # <--- convert list to DataFrame\n",
    "df.to_csv(\"Data/google_map.csv\",index=False, encoding=\"utf-8\")"
   ]
  },
  {
   "cell_type": "markdown",
   "metadata": {},
   "source": [
    "## Combine the 2 tables together\n"
   ]
  },
  {
   "cell_type": "code",
   "execution_count": 13,
   "metadata": {},
   "outputs": [],
   "source": [
    "import pandas as pd\n",
    "import time\n",
    "web_data = pd.read_csv(\"Data/tripadvisor.csv\",index_col=None)\n",
    "web_dataGGMap = pd.read_csv(\"Data/google_map.csv\",index_col=None)\n",
    "\n",
    "\n",
    "data_combine = pd.concat([web_data,web_dataGGMap], ignore_index=True).sort_values(by='time_visit')\n",
    "data_combine.to_csv(\"Data/feedback_final.csv\",index=False, encoding=\"utf-8\")"
   ]
  }
 ],
 "metadata": {
  "kernelspec": {
   "display_name": "Python 3",
   "language": "python",
   "name": "python3"
  },
  "language_info": {
   "codemirror_mode": {
    "name": "ipython",
    "version": 3
   },
   "file_extension": ".py",
   "mimetype": "text/x-python",
   "name": "python",
   "nbconvert_exporter": "python",
   "pygments_lexer": "ipython3",
   "version": "3.11.3"
  }
 },
 "nbformat": 4,
 "nbformat_minor": 2
}
