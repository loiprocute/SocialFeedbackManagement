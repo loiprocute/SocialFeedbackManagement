{
 "cells": [
  {
   "cell_type": "code",
   "execution_count": 5,
   "metadata": {},
   "outputs": [
    {
     "name": "stdout",
     "output_type": "stream",
     "text": [
      "2023-11-21 22:21\n",
      "Producer-2 sent item :  {'producer': 'producer-2', 'user': 'dislavka', 'text_review': 'Любезный персонал,подскажут и помогут побрать ваш поук,все продукты вкусные и свежие,место приятное,советуем к посещению,за две порции отдали 13$', 'sentiment_review': 'POSITIVE', 'sentiment_score': 0.9998617172241212, 'rate': 5, 'time_visit': '2023-11-21 22:21', 'language': 'ru', 'platform': 'tripadvisor'}\n",
      "2023-11-21 22:27\n",
      "Producer-2 sent item :  {'producer': 'producer-2', 'user': 'PurplePP', 'text_review': 'Served by the very helpful Nghi. Having eaten Vietnamese food for 3 weeks, we came across this treasure- opposite Starbucks in Times Square ( you will need to go up a few flights of stairs, but well worthwhile) this glorious fresh food is so flavoursome. I had spicy tuna & octopus with sushi rice, lettuce, seaweed, fried dried shallots, edamame beans, pickled red cabbage & broccoli. In a group of 4 picky eaters , we all had a different selection for our Poke bowl. 4 empty bowls was evidence of our satisfaction. Go seek it out.', 'sentiment_review': 'POSITIVE', 'sentiment_score': 0.9994885921478271, 'rate': 5, 'time_visit': '2023-11-21 22:27', 'language': 'en', 'platform': 'tripadvisor'}\n",
      "2023-11-21 22:33\n",
      "Producer-2 sent item :  {'producer': 'producer-2', 'user': 'Suzannev681', 'text_review': 'Heerlijk, goede kwaliteit en vriendelijk geprijsd. Daarbij spreken ze goed Engels en zijn ze klantgericht. 10/10 would recommend', 'sentiment_review': 'POSITIVE', 'sentiment_score': 0.9998154044151306, 'rate': 5, 'time_visit': '2023-11-21 22:33', 'language': 'nl', 'platform': 'tripadvisor'}\n",
      "2023-11-21 22:39\n",
      "Producer-2 sent item :  {'producer': 'producer-2', 'user': 'BYEPROVIDENCIA', 'text_review': 'I’ve been to Poke Hanoi and wanted to try Poke Saigon as well. It’s was the same. The service and food were excellent. It’s a great light meal for lunch or dinner while traveling. I will be back!!', 'sentiment_review': 'POSITIVE', 'sentiment_score': 0.9996398687362672, 'rate': 5, 'time_visit': '2023-11-21 22:39', 'language': 'en', 'platform': 'tripadvisor'}\n",
      "2023-11-21 22:46\n",
      "Producer-2 sent item :  {'producer': 'producer-2', 'user': 'juliehN506PQ', 'text_review': 'Very nice place with great fresh food. So nice to get a different kind of food here in Vietnam, when you’ve been eating the same kind for days.; Fresh vegetables and very tasty fish. I tried the salmon with spicy mayo and it was delicious ', 'sentiment_review': 'POSITIVE', 'sentiment_score': 0.9998182654380798, 'rate': 5, 'time_visit': '2023-11-21 22:46', 'language': 'en', 'platform': 'tripadvisor'}\n",
      "2023-11-21 22:52\n",
      "Producer-2 sent item :  {'producer': 'producer-2', 'user': 'Happiness10151452674', 'text_review': '정말 맛있어요. 지난번 포장했는데, 오늘은 직접 먹고 갑니다. 추천 메뉴 켈리포니아로 먹었는데 완전 취저! 또 올거에요. 아마 한달에 두번은 오지 싶네요 . 완전 강추!!! 호치민 맛집 인정입니다. 요거 먹고 아라비카 커피로 입가심 코스 굿!', 'sentiment_review': 'POSITIVE', 'sentiment_score': 0.9954588413238524, 'rate': 5, 'time_visit': '2023-11-21 22:52', 'language': 'ko', 'platform': 'tripadvisor'}\n"
     ]
    },
    {
     "ename": "KeyboardInterrupt",
     "evalue": "",
     "output_type": "error",
     "traceback": [
      "\u001b[1;31m---------------------------------------------------------------------------\u001b[0m",
      "\u001b[1;31mKeyboardInterrupt\u001b[0m                         Traceback (most recent call last)",
      "\u001b[1;32mc:\\LoiCV\\crawl_feedback\\producer_test2.ipynb Cell 1\u001b[0m line \u001b[0;36m5\n\u001b[0;32m     <a href='vscode-notebook-cell:/c%3A/LoiCV/crawl_feedback/producer_test2.ipynb#W0sZmlsZQ%3D%3D?line=47'>48</a>\u001b[0m \u001b[39mprint\u001b[39m(\u001b[39m'\u001b[39m\u001b[39mProducer-2 sent item : \u001b[39m\u001b[39m'\u001b[39m,item)\n\u001b[0;32m     <a href='vscode-notebook-cell:/c%3A/LoiCV/crawl_feedback/producer_test2.ipynb#W0sZmlsZQ%3D%3D?line=48'>49</a>\u001b[0m producer\u001b[39m.\u001b[39mflush()\n\u001b[1;32m---> <a href='vscode-notebook-cell:/c%3A/LoiCV/crawl_feedback/producer_test2.ipynb#W0sZmlsZQ%3D%3D?line=49'>50</a>\u001b[0m time\u001b[39m.\u001b[39;49msleep(\u001b[39m10\u001b[39;49m)\n\u001b[0;32m     <a href='vscode-notebook-cell:/c%3A/LoiCV/crawl_feedback/producer_test2.ipynb#W0sZmlsZQ%3D%3D?line=50'>51</a>\u001b[0m extra \u001b[39m+\u001b[39m\u001b[39m=\u001b[39m \u001b[39m1\u001b[39m\n",
      "\u001b[1;31mKeyboardInterrupt\u001b[0m: "
     ]
    }
   ],
   "source": [
    "import time\n",
    "from datetime import datetime, timedelta\n",
    "from kafka import KafkaProducer\n",
    "from confluent_kafka import Producer\n",
    "import pandas as pd\n",
    "import random\n",
    "\n",
    "web_data = pd.read_csv(\"Data/output_Web_.csv\",index_col=None)\n",
    "#web_data = pd.read_csv(\"Data/tripadvisor.csv\",index_col=None)\n",
    "\n",
    "\n",
    "# Cấu hình producer\n",
    "conf = {'bootstrap.servers': 'localhost:9092'}\n",
    "\n",
    "# Khởi tạo producer\n",
    "producer = Producer(conf)\n",
    "extra = 0\n",
    "while True :\n",
    "    i = random.randint(0,web_data.shape[0])\n",
    "    user = web_data.iloc[i]['user']\n",
    "    text_review = web_data.iloc[i]['text_review']\n",
    "    sentiment_review = web_data.iloc[i]['sentiment_review']\n",
    "    sentiment_score = web_data.iloc[i]['sentiment_score']\n",
    "    rate= web_data.iloc[i]['rate']\n",
    "    \n",
    "    delta = timedelta(days=1/240+extra/240)\n",
    "    current_time = datetime.now()\n",
    "    result_time = current_time + delta  \n",
    "     # adjust format\n",
    "    time_visit = result_time.strftime(\"%Y-%m-%d %H:%M\") \n",
    "    #time_visit = web_data.iloc[i]['time_visit']\n",
    "    language = web_data.iloc[i]['language']\n",
    "    platform = web_data.iloc[i]['platform']\n",
    "    print(time_visit)\n",
    "    item = {\n",
    "            'producer':'producer-2',\n",
    "            'user' : user,\n",
    "            'text_review': text_review,\n",
    "            'sentiment_review' : sentiment_review,\n",
    "            'sentiment_score'  : sentiment_score,\n",
    "            'rate' : rate,\n",
    "            'time_visit' : time_visit,\n",
    "            'language': language,\n",
    "            'platform': platform\n",
    "        }\n",
    "    message = '==='.join('{}'.format(i) for i in item.values()).encode('utf-8')\n",
    "    producer.produce('topic-example', value=message)\n",
    "    print('Producer-2 sent item : ',item)\n",
    "    producer.flush()\n",
    "    time.sleep(10)\n",
    "    extra += 1\n",
    "    \n",
    "    \n",
    "\n"
   ]
  }
 ],
 "metadata": {
  "kernelspec": {
   "display_name": "Python 3",
   "language": "python",
   "name": "python3"
  },
  "language_info": {
   "codemirror_mode": {
    "name": "ipython",
    "version": 3
   },
   "file_extension": ".py",
   "mimetype": "text/x-python",
   "name": "python",
   "nbconvert_exporter": "python",
   "pygments_lexer": "ipython3",
   "version": "3.11.3"
  }
 },
 "nbformat": 4,
 "nbformat_minor": 2
}
