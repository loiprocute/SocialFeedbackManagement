{
 "cells": [
  {
   "cell_type": "code",
   "execution_count": 1,
   "metadata": {},
   "outputs": [
    {
     "ename": "KeyboardInterrupt",
     "evalue": "",
     "output_type": "error",
     "traceback": [
      "\u001b[1;31m---------------------------------------------------------------------------\u001b[0m",
      "\u001b[1;31mKeyboardInterrupt\u001b[0m                         Traceback (most recent call last)",
      "\u001b[1;32mc:\\LoiCV\\crawl_feedback\\producer_test2.ipynb Cell 1\u001b[0m line \u001b[0;36m5\n\u001b[0;32m     <a href='vscode-notebook-cell:/c%3A/LoiCV/crawl_feedback/producer_test2.ipynb#W0sZmlsZQ%3D%3D?line=51'>52</a>\u001b[0m \u001b[39m#producer.produce('topic-example',key='optional_key', value = json.dumps(item,default=convert_to_builtin_type),callback=delivery_report)\u001b[39;00m\n\u001b[0;32m     <a href='vscode-notebook-cell:/c%3A/LoiCV/crawl_feedback/producer_test2.ipynb#W0sZmlsZQ%3D%3D?line=52'>53</a>\u001b[0m producer\u001b[39m.\u001b[39mflush()\n\u001b[1;32m---> <a href='vscode-notebook-cell:/c%3A/LoiCV/crawl_feedback/producer_test2.ipynb#W0sZmlsZQ%3D%3D?line=53'>54</a>\u001b[0m time\u001b[39m.\u001b[39msleep(\u001b[39m5\u001b[39m)\n\u001b[0;32m     <a href='vscode-notebook-cell:/c%3A/LoiCV/crawl_feedback/producer_test2.ipynb#W0sZmlsZQ%3D%3D?line=54'>55</a>\u001b[0m \u001b[39m# if i == 10:\u001b[39;00m\n\u001b[0;32m     <a href='vscode-notebook-cell:/c%3A/LoiCV/crawl_feedback/producer_test2.ipynb#W0sZmlsZQ%3D%3D?line=55'>56</a>\u001b[0m \u001b[39m#     break\u001b[39;00m\n",
      "\u001b[1;31mKeyboardInterrupt\u001b[0m: "
     ]
    }
   ],
   "source": [
    "import time\n",
    "from kafka import KafkaProducer\n",
    "from confluent_kafka import Producer\n",
    "import pandas as pd\n",
    "import json\n",
    "import numpy as np\n",
    "web_data = pd.read_csv(\"Data/output_WebGGMap_.csv\",index_col=None)\n",
    "\n",
    "\n",
    "# Cấu hình producer\n",
    "conf = {'bootstrap.servers': 'localhost:9092'}\n",
    "\n",
    "# Khởi tạo producer\n",
    "producer = Producer(conf)\n",
    "\n",
    "\n",
    "    \n",
    "for i in range(web_data.shape[0]):\n",
    "    user = web_data.iloc[i]['user']\n",
    "    text_review = web_data.iloc[i]['text_review']\n",
    "    sentiment_review = web_data.iloc[i]['sentiment_review']\n",
    "    sentiment_score = web_data.iloc[i]['sentiment_score']\n",
    "    rate= web_data.iloc[i]['rate']\n",
    "    time_visit = web_data.iloc[i]['time_visit']\n",
    "    language = web_data.iloc[i]['language']\n",
    "    platform = web_data.iloc[i]['platform']\n",
    "    \n",
    "    item = {\n",
    "            'producer':'producer-2',\n",
    "            'user' : user,\n",
    "            'text_review': text_review,\n",
    "            'sentiment_review' : sentiment_review,\n",
    "            'sentiment_score'  : sentiment_score,\n",
    "            'rate' : rate,\n",
    "            'time_visit' : time_visit,\n",
    "            'language': language,\n",
    "            'platform': platform\n",
    "        }\n",
    "    message = '==='.join('{}'.format(i) for i in item.values()).encode('utf-8')\n",
    "    producer.produce('topic-example', value=message)\n",
    "    print('Producer-2 sent item : ',item)\n",
    "    producer.flush()\n",
    "    time.sleep(5)\n",
    "    if i == 0:\n",
    "        break\n"
   ]
  }
 ],
 "metadata": {
  "kernelspec": {
   "display_name": "Python 3",
   "language": "python",
   "name": "python3"
  },
  "language_info": {
   "codemirror_mode": {
    "name": "ipython",
    "version": 3
   },
   "file_extension": ".py",
   "mimetype": "text/x-python",
   "name": "python",
   "nbconvert_exporter": "python",
   "pygments_lexer": "ipython3",
   "version": "3.11.3"
  }
 },
 "nbformat": 4,
 "nbformat_minor": 2
}
