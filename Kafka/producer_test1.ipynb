{
 "cells": [
  {
   "cell_type": "code",
   "execution_count": 1,
   "metadata": {},
   "outputs": [
    {
     "name": "stdout",
     "output_type": "stream",
     "text": [
      "2023-11-21 22:21\n",
      "Producer-1 sent item :  {'producer': 'producer-1', 'user': 'Linh Luong', 'text_review': 'Ordered few times and never disappointed.', 'sentiment_review': 'POSITIVE', 'sentiment_score': 0.9967107772827148, 'rate': 5, 'time_visit': '2023-11-21 22:21', 'language': 'en', 'platform': 'google_map'}\n",
      "2023-11-21 22:27\n",
      "Producer-1 sent item :  {'producer': 'producer-1', 'user': 'Anh Thư', 'text_review': 'Ăn ngon quá trời ngon', 'sentiment_review': 'POSITIVE', 'sentiment_score': 0.9998844861984252, 'rate': 5, 'time_visit': '2023-11-21 22:27', 'language': 'vi', 'platform': 'google_map'}\n",
      "2023-11-21 22:33\n",
      "Producer-1 sent item :  {'producer': 'producer-1', 'user': 'Felipe Asiain', 'text_review': \"Best poke i've ever had!!; I was not expecting this quality level, it truly surprised me. Every single ingredient was fresh and the overall seasoning was delicious as well. …\", 'sentiment_review': 'POSITIVE', 'sentiment_score': 0.999855637550354, 'rate': 5, 'time_visit': '2023-11-21 22:33', 'language': 'en', 'platform': 'google_map'}\n",
      "2023-11-21 22:39\n",
      "Producer-1 sent item :  {'producer': 'producer-1', 'user': 'Yann Chrétien', 'text_review': 'Amazing staff, relaxing place. The concept, the quality of meals, or drinks that are suggested just WoW, really simple but so good, love it this is for the reason i went back after a friend show me the place for a lunch. Really amazing idea, quality, staff all match together for a reasonnable price. Keep going, will be back, YummY', 'sentiment_review': 'POSITIVE', 'sentiment_score': 0.9998351335525512, 'rate': 5, 'time_visit': '2023-11-21 22:39', 'language': 'en', 'platform': 'google_map'}\n",
      "2023-11-21 22:45\n",
      "Producer-1 sent item :  {'producer': 'producer-1', 'user': 'Carolin S.', 'text_review': 'Amazing place to have something unique to eat. I really loved the poke bowl ', 'sentiment_review': 'POSITIVE', 'sentiment_score': 0.999871015548706, 'rate': 5, 'time_visit': '2023-11-21 22:45', 'language': 'en', 'platform': 'google_map'}\n",
      "2023-11-21 22:52\n",
      "Producer-1 sent item :  {'producer': 'producer-1', 'user': 'Christian Hoffmann', 'text_review': 'Really tasty bowl, nice staff and we likes that you can create your own bowl in 5 steps. Highly recommended :)', 'sentiment_review': 'POSITIVE', 'sentiment_score': 0.9998441934585572, 'rate': 5, 'time_visit': '2023-11-21 22:52', 'language': 'en', 'platform': 'google_map'}\n",
      "2023-11-21 22:58\n",
      "Producer-1 sent item :  {'producer': 'producer-1', 'user': 'huyền trân nguyễn', 'text_review': 'Món ăn ở đây ngon lắm nhân viên cũng thân thiện dễ thương nữa nên sẽ ghé thường xuyên', 'sentiment_review': 'POSITIVE', 'sentiment_score': 0.9998623132705688, 'rate': 5, 'time_visit': '2023-11-21 22:58', 'language': 'vi', 'platform': 'google_map'}\n",
      "2023-11-21 23:04\n",
      "Producer-1 sent item :  {'producer': 'producer-1', 'user': 'Hoai Thuong Nguyen Le', 'text_review': 'Đồ ăn ngon, không gian đẹp', 'sentiment_review': 'POSITIVE', 'sentiment_score': 0.999886989593506, 'rate': 5, 'time_visit': '2023-11-21 23:04', 'language': 'vi', 'platform': 'google_map'}\n"
     ]
    },
    {
     "ename": "KeyboardInterrupt",
     "evalue": "",
     "output_type": "error",
     "traceback": [
      "\u001b[1;31m---------------------------------------------------------------------------\u001b[0m",
      "\u001b[1;31mKeyboardInterrupt\u001b[0m                         Traceback (most recent call last)",
      "\u001b[1;32mc:\\LoiCV\\crawl_feedback\\producer_test1.ipynb Cell 1\u001b[0m line \u001b[0;36m5\n\u001b[0;32m     <a href='vscode-notebook-cell:/c%3A/LoiCV/crawl_feedback/producer_test1.ipynb#W0sZmlsZQ%3D%3D?line=48'>49</a>\u001b[0m \u001b[39mprint\u001b[39m(\u001b[39m'\u001b[39m\u001b[39mProducer-1 sent item : \u001b[39m\u001b[39m'\u001b[39m,item)\n\u001b[0;32m     <a href='vscode-notebook-cell:/c%3A/LoiCV/crawl_feedback/producer_test1.ipynb#W0sZmlsZQ%3D%3D?line=49'>50</a>\u001b[0m producer\u001b[39m.\u001b[39mflush()\n\u001b[1;32m---> <a href='vscode-notebook-cell:/c%3A/LoiCV/crawl_feedback/producer_test1.ipynb#W0sZmlsZQ%3D%3D?line=50'>51</a>\u001b[0m time\u001b[39m.\u001b[39msleep(\u001b[39m10\u001b[39m)\n\u001b[0;32m     <a href='vscode-notebook-cell:/c%3A/LoiCV/crawl_feedback/producer_test1.ipynb#W0sZmlsZQ%3D%3D?line=51'>52</a>\u001b[0m extra \u001b[39m+\u001b[39m\u001b[39m=\u001b[39m \u001b[39m1\u001b[39m\n",
      "\u001b[1;31mKeyboardInterrupt\u001b[0m: "
     ]
    }
   ],
   "source": [
    "import time\n",
    "from datetime import datetime, timedelta\n",
    "from kafka import KafkaProducer\n",
    "from confluent_kafka import Producer\n",
    "import pandas as pd\n",
    "import random\n",
    "\n",
    "web_data = pd.read_csv(\"Data/google_map.csv\",index_col=None)\n",
    "\n",
    "\n",
    "\n",
    "# Cấu hình producer\n",
    "conf = {'bootstrap.servers': 'localhost:9092'}\n",
    "\n",
    "# Khởi tạo producer\n",
    "producer = Producer(conf)\n",
    "\n",
    "extra = 0\n",
    "while True :\n",
    "    i = random.randint(0,web_data.shape[0])\n",
    "    user = web_data.iloc[i]['user']\n",
    "    text_review = web_data.iloc[i]['text_review']\n",
    "    sentiment_review = web_data.iloc[i]['sentiment_review']\n",
    "    sentiment_score = web_data.iloc[i]['sentiment_score']\n",
    "    rate= web_data.iloc[i]['rate']\n",
    "    \n",
    "    delta = timedelta(days=1/240+extra/240)\n",
    "    current_time = datetime.now()\n",
    "    result_time = current_time + delta  \n",
    "     # adjust format\n",
    "    time_visit = result_time.strftime(\"%Y-%m-%d %H:%M\") \n",
    "    #time_visit = web_data.iloc[i]['time_visit']\n",
    "    language = web_data.iloc[i]['language']\n",
    "    platform = web_data.iloc[i]['platform']\n",
    "    print(time_visit)\n",
    "    item = {\n",
    "            'producer':'producer-1',\n",
    "            'user' : user,\n",
    "            'text_review': text_review,\n",
    "            'sentiment_review' : sentiment_review,\n",
    "            'sentiment_score'  : sentiment_score,\n",
    "            'rate' : rate,\n",
    "            'time_visit' : time_visit,\n",
    "            'language': language,\n",
    "            'platform': platform\n",
    "        }\n",
    "    message = '==='.join('{}'.format(i) for i in item.values()).encode('utf-8')\n",
    "    producer.produce('topic-example', value=message)\n",
    "    print('Producer-1 sent item : ',item)\n",
    "    producer.flush()\n",
    "    time.sleep(10)\n",
    "    extra += 1\n",
    "    \n"
   ]
  }
 ],
 "metadata": {
  "kernelspec": {
   "display_name": "Python 3",
   "language": "python",
   "name": "python3"
  },
  "language_info": {
   "codemirror_mode": {
    "name": "ipython",
    "version": 3
   },
   "file_extension": ".py",
   "mimetype": "text/x-python",
   "name": "python",
   "nbconvert_exporter": "python",
   "pygments_lexer": "ipython3",
   "version": "3.11.3"
  }
 },
 "nbformat": 4,
 "nbformat_minor": 2
}
